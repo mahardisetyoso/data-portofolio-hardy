{
 "cells": [
  {
   "cell_type": "code",
   "execution_count": 3,
   "id": "3a05348d-bf74-49f1-a325-eb50fb65ac34",
   "metadata": {},
   "outputs": [],
   "source": [
    "from pyrosm import OSM\n",
    "import geopandas as gpd \n",
    "from pathlib import Path "
   ]
  },
  {
   "cell_type": "code",
   "execution_count": 2,
   "id": "fb8142aa-f15d-486c-b372-0345357675bc",
   "metadata": {},
   "outputs": [],
   "source": [
    "osm = OSM(r\"C:\\Users\\hardy\\Documents\\Python\\Data Portofolio\\data-portofolio-hardy\\projects\\optimalization-pickup-ridehailing\\data\\java-latest.osm.pbf\")"
   ]
  },
  {
   "cell_type": "code",
   "execution_count": null,
   "id": "e7ba1dfb-f335-40aa-ab11-c38b418b90fc",
   "metadata": {},
   "outputs": [],
   "source": [
    "# Ambil POIs dan Roads\n",
    "pois = osm.get_pois()\n",
    "roads = osm.get_network(network_type=\"driving\")"
   ]
  },
  {
   "cell_type": "code",
   "execution_count": null,
   "id": "879f2a85-7da4-48d2-8e25-f31f7c6e994d",
   "metadata": {},
   "outputs": [],
   "source": []
  }
 ],
 "metadata": {
  "kernelspec": {
   "display_name": "Python 3 (ipykernel)",
   "language": "python",
   "name": "python3"
  },
  "language_info": {
   "codemirror_mode": {
    "name": "ipython",
    "version": 3
   },
   "file_extension": ".py",
   "mimetype": "text/x-python",
   "name": "python",
   "nbconvert_exporter": "python",
   "pygments_lexer": "ipython3",
   "version": "3.10.18"
  }
 },
 "nbformat": 4,
 "nbformat_minor": 5
}
