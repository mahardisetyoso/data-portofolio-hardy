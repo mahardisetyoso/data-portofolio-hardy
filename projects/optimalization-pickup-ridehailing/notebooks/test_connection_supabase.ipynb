{
 "cells": [
  {
   "cell_type": "code",
   "execution_count": null,
   "id": "2b7cee5a",
   "metadata": {
    "editable": true,
    "slideshow": {
     "slide_type": ""
    },
    "tags": []
   },
   "outputs": [],
   "source": [
    "import geopandas as gpd\n",
    "from sqlalchemy import create_engine\n",
    "from geoalchemy2 import Geometry\n",
    "from tqdm import tqdm\n",
    "from tenacity import retry, stop_after_attempt, wait_fixed, retry_if_exception_type\n",
    "from sqlalchemy.exc import OperationalError, SQLAlchemyError\n",
    "from dotenv import load_dotenv\n",
    "import os\n",
    "import pandas as pd"
   ]
  },
  {
   "cell_type": "code",
   "execution_count": null,
   "id": "49eaf4ed",
   "metadata": {
    "editable": true,
    "scrolled": true,
    "slideshow": {
     "slide_type": ""
    },
    "tags": []
   },
   "outputs": [],
   "source": [
    "load_dotenv()\n",
    "engine = create_engine(os.getenv(\"SUPABASE_DB_URL\"),connect_args={\"options\": \"-c statement_timeout=300000\"})\n",
    "print(engine)"
   ]
  },
  {
   "cell_type": "code",
   "execution_count": null,
   "id": "c6193507",
   "metadata": {
    "editable": true,
    "slideshow": {
     "slide_type": ""
    },
    "tags": []
   },
   "outputs": [],
   "source": [
    "# === PARAMETER UPLOAD ===\n",
    "TABLE_NAME = \"id_jkt_geohash7\"\n",
    "CHUNKSIZE = 1000  # baris per batch\n",
    "MAX_RETRY = 3     # jumlah percobaan ulang"
   ]
  },
  {
   "cell_type": "code",
   "execution_count": null,
   "id": "b2651ed3",
   "metadata": {},
   "outputs": [],
   "source": [
    "# === BACA DATA ===\n",
    "gdf = gpd.read_parquet(r\"C:\\Users\\hardy\\Documents\\Python\\Data Portofolio\\data-portofolio-hardy\\projects\\optimalization-pickup-ridehailing\\data\\id_adm_1.parquet\").to_crs(epsg=4326)"
   ]
  },
  {
   "cell_type": "code",
   "execution_count": null,
   "id": "608d0be8-7449-4220-8a1d-b00a9771df9f",
   "metadata": {},
   "outputs": [],
   "source": [
    "# === BACA DATA GEOJSON ===\n",
    "gdf = gpd.read_file(r\"C:\\Users\\hardy\\Documents\\Python\\Data Portofolio\\data-portofolio-hardy\\projects\\optimalization-pickup-ridehailing\\data\\id_jkt_geohash7.geojson\").to_crs(epsg=4326)"
   ]
  },
  {
   "cell_type": "code",
   "execution_count": null,
   "id": "e8df3784",
   "metadata": {},
   "outputs": [],
   "source": [
    "# === FUNGSI UPLOAD DENGAN RETRY ===\n",
    "@retry(\n",
    "    stop=stop_after_attempt(MAX_RETRY),\n",
    "    wait=wait_fixed(3),\n",
    "    retry=retry_if_exception_type((OperationalError, SQLAlchemyError)),\n",
    "    reraise=True\n",
    ")\n",
    "def upload_chunk(chunk, engine, table_name):\n",
    "    chunk.to_postgis(table_name, engine, if_exists=\"append\", index=False)"
   ]
  },
  {
   "cell_type": "code",
   "execution_count": null,
   "id": "de412d5e-9d76-4e9f-a58f-d40da697f31e",
   "metadata": {},
   "outputs": [],
   "source": [
    "# === PENGOSONGAN TABEL JIKA ADA SEBELUMNYA ===\n",
    "with engine.begin() as conn:\n",
    "    conn.execute(f'DROP TABLE IF EXISTS \"{TABLE_NAME}\";')"
   ]
  },
  {
   "cell_type": "code",
   "execution_count": null,
   "id": "f8458f86-4860-49cf-ab0b-1d45e3986ff4",
   "metadata": {},
   "outputs": [],
   "source": [
    "# === UPLOAD DALAM BATCH DENGAN PROGRESS BAR ===\n",
    "num_chunks = (len(gdf) // CHUNKSIZE) + 1\n",
    "for i in tqdm(range(num_chunks), desc=\"Uploading\", unit=\"chunk\"):\n",
    "    start = i * CHUNKSIZE\n",
    "    end = min((i + 1) * CHUNKSIZE, len(gdf))\n",
    "    chunk = gdf.iloc[start:end]\n",
    "    \n",
    "    if i == 0:\n",
    "        # batch pertama: buat tabel\n",
    "        chunk.to_postgis(TABLE_NAME, engine, if_exists=\"replace\", index=False, dtype={\"geometry\": Geometry(\"MULTIPOLYGON\", srid=4326)})\n",
    "    else:\n",
    "        upload_chunk(chunk, engine, TABLE_NAME)\n",
    "\n",
    "print(\"✅ Upload selesai tanpa error.\")"
   ]
  },
  {
   "cell_type": "code",
   "execution_count": null,
   "id": "48f8fd14-5d74-43e1-957b-254156a485b6",
   "metadata": {},
   "outputs": [],
   "source": [
    "gdf = gpd.read_postgis(\n",
    "    sql=\"SELECT * FROM id_jkt_geohash7;\",\n",
    "    con=engine,\n",
    "    geom_col=\"geometry\"  # ganti sesuai nama kolom geometri\n",
    ")\n"
   ]
  },
  {
   "cell_type": "code",
   "execution_count": null,
   "id": "1eec8a6b-8888-4cc8-a549-e7dacc4eb441",
   "metadata": {},
   "outputs": [],
   "source": [
    "gdf.explore()"
   ]
  },
  {
   "cell_type": "code",
   "execution_count": null,
   "id": "3df46bd4-e40e-4fbf-83db-7c87285597e7",
   "metadata": {},
   "outputs": [],
   "source": []
  },
  {
   "cell_type": "code",
   "execution_count": null,
   "id": "a33f8dd1-eab2-4c79-a8d7-74dfa68b5b39",
   "metadata": {},
   "outputs": [],
   "source": []
  }
 ],
 "metadata": {
  "kernelspec": {
   "display_name": "Python 3 (ipykernel)",
   "language": "python",
   "name": "python3"
  },
  "language_info": {
   "codemirror_mode": {
    "name": "ipython",
    "version": 3
   },
   "file_extension": ".py",
   "mimetype": "text/x-python",
   "name": "python",
   "nbconvert_exporter": "python",
   "pygments_lexer": "ipython3",
   "version": "3.10.18"
  }
 },
 "nbformat": 4,
 "nbformat_minor": 5
}
