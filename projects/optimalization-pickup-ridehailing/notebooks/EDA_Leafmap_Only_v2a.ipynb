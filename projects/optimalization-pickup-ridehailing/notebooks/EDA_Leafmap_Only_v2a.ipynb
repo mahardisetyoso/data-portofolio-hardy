{
 "cells": [
  {
   "cell_type": "markdown",
   "id": "ffce17d5",
   "metadata": {},
   "source": [
    "\n",
    "# EDA Geospatial Data – **LEAFMAP ONLY v2a** 🇮🇩\n",
    "\n",
    "Notebook ini **hanya** menggunakan `leafmap` untuk semua visualisasi geospasial (tanpa 3D).  \n",
    "Warna peta menggunakan **gradasi merah → hijau** (merah = intensitas tertinggi).  \n",
    "Tujuan: *Run All* langsung menghasilkan peta interaktif PU/DO (pickup/dropoff), heatmap, cluster, dan (opsional) choropleth jika batas wilayah tersedia.\n",
    "\n",
    "**Apa yang disediakan di notebook ini:**\n",
    "1. Setup dan import paket yang dibutuhkan.\n",
    "2. Load dataset *trip* (PU/DO), POI (opsional), dan batas wilayah (opsional).\n",
    "3. Pembersihan ringan dan konversi ke `GeoDataFrame`.\n",
    "4. Visualisasi interaktif berbasis `leafmap`:\n",
    "   - Heatmap PU & DO (gradasi merah→hijau).\n",
    "   - Cluster titik PU & DO (toggle layer).\n",
    "   - (Opsional) Choropleth agregasi PU/DO per wilayah jika boundary poligon tersedia.\n",
    "5. Ekspor peta ke HTML (opsional).\n",
    "6. Markdown deskriptif ringkas terkait insight.\n",
    "\n",
    "> **Catatan:** Nama kolom longitude/latitude akan dideteksi otomatis dari beberapa variasi umum.\n"
   ]
  },
  {
   "cell_type": "code",
   "execution_count": 12,
   "id": "2d8d2448",
   "metadata": {},
   "outputs": [],
   "source": [
    "\n",
    "# (Opsional) Install paket jika diperlukan.\n",
    "# Jalankan sekali jika environment belum punya paket-paket berikut.\n",
    "# Jika sudah terpasang, blok ini bisa dilewati.\n",
    "try:\n",
    "    import leafmap\n",
    "except ImportError:\n",
    "    %pip install -q leafmap geopandas shapely pyproj rtree\n",
    "\n",
    "# Paket standar (akan di-import lagi di sel berikut untuk memastikan)\n"
   ]
  },
  {
   "cell_type": "code",
   "execution_count": 13,
   "id": "db9463fb",
   "metadata": {},
   "outputs": [],
   "source": [
    "\n",
    "import os\n",
    "import math\n",
    "import json\n",
    "import pandas as pd\n",
    "import numpy as np\n",
    "import geopandas as gpd\n",
    "from shapely import wkt\n",
    "from shapely.geometry import Point, Polygon\n",
    "import leafmap\n",
    "\n",
    "pd.set_option('display.max_columns', 50)\n"
   ]
  },
  {
   "cell_type": "code",
   "execution_count": 14,
   "id": "c250e59a",
   "metadata": {},
   "outputs": [
    {
     "name": "stdout",
     "output_type": "stream",
     "text": [
      "TRIPS_PATH : None\n",
      "POIS_PATH  : None\n",
      "AREAS_PATH : None\n"
     ]
    }
   ],
   "source": [
    "\n",
    "# ====== KONFIGURASI FILE INPUT ======\n",
    "# Ubah path sesuai lokasi file Anda bila perlu.\n",
    "CANDIDATE_DIRS = [\n",
    "    \".\",                # current dir\n",
    "    \"./data\",\n",
    "    \"/mnt/data\"         # jika Anda menjalankan di lingkungan dengan direktori ini\n",
    "]\n",
    "\n",
    "# Nama-nama default file berdasarkan konteks proyek Anda\n",
    "TRIPS_FILE_NAMES = [\n",
    "    \"jakarta_ride_trips_5000.csv\",\n",
    "    \"ride_trips.csv\",\n",
    "    \"trips.csv\"\n",
    "]\n",
    "POIS_FILE_NAMES = [\n",
    "    \"jakarta_pois.csv\",\n",
    "    \"pois.csv\"\n",
    "]\n",
    "AREAS_FILE_NAMES = [\n",
    "    \"jakarta_areas.csv\",\n",
    "    \"areas.csv\",\n",
    "    \"areas.geojson\",\n",
    "    \"areas.geo.csv\"\n",
    "]\n",
    "\n",
    "def find_first_existing(candidates, filenames):\n",
    "    for d in candidates:\n",
    "        for f in filenames:\n",
    "            path = os.path.join(d, f)\n",
    "            if os.path.exists(path):\n",
    "                return path\n",
    "    return None\n",
    "\n",
    "TRIPS_PATH = find_first_existing(CANDIDATE_DIRS, TRIPS_FILE_NAMES)\n",
    "POIS_PATH = find_first_existing(CANDIDATE_DIRS, POIS_FILE_NAMES)\n",
    "AREAS_PATH = find_first_existing(CANDIDATE_DIRS, AREAS_FILE_NAMES)\n",
    "\n",
    "print(\"TRIPS_PATH :\", TRIPS_PATH)\n",
    "print(\"POIS_PATH  :\", POIS_PATH)\n",
    "print(\"AREAS_PATH :\", AREAS_PATH)\n"
   ]
  },
  {
   "cell_type": "code",
   "execution_count": 15,
   "id": "4e1ac082",
   "metadata": {},
   "outputs": [
    {
     "name": "stdout",
     "output_type": "stream",
     "text": [
      "Peringatan: File trips tidak ditemukan. Harap set TRIPS_PATH manual.\n",
      "Info: File POIs opsional tidak ditemukan. Melanjutkan tanpa POI.\n",
      "Info: File area boundaries opsional tidak ditemukan. Melanjutkan tanpa boundary.\n"
     ]
    }
   ],
   "source": [
    "\n",
    "# ====== LOAD DATA ======\n",
    "df_trips = None\n",
    "df_pois = None\n",
    "gdf_areas = None\n",
    "\n",
    "if TRIPS_PATH and os.path.exists(TRIPS_PATH):\n",
    "    df_trips = pd.read_csv(TRIPS_PATH)\n",
    "    print(\"Loaded trips:\", df_trips.shape)\n",
    "else:\n",
    "    print(\"Peringatan: File trips tidak ditemukan. Harap set TRIPS_PATH manual.\")\n",
    "\n",
    "if POIS_PATH and os.path.exists(POIS_PATH):\n",
    "    try:\n",
    "        df_pois = pd.read_csv(POIS_PATH)\n",
    "        print(\"Loaded POIs:\", df_pois.shape)\n",
    "    except Exception as e:\n",
    "        print(\"POI tidak terbaca sebagai CSV:\", e)\n",
    "else:\n",
    "    print(\"Info: File POIs opsional tidak ditemukan. Melanjutkan tanpa POI.\")\n",
    "\n",
    "# Area boundaries (bisa CSV dengan kolom WKT 'geometry' atau file geojson)\n",
    "if AREAS_PATH and os.path.exists(AREAS_PATH):\n",
    "    if AREAS_PATH.lower().endswith(\".geojson\"):\n",
    "        gdf_areas = gpd.read_file(AREAS_PATH)\n",
    "    else:\n",
    "        try:\n",
    "            df_areas = pd.read_csv(AREAS_PATH)\n",
    "            # Deteksi kolom geometri (WKT) umum\n",
    "            geom_cols = [c for c in df_areas.columns if c.lower() in [\"geometry\", \"wkt\", \"geom\"]]\n",
    "            if geom_cols:\n",
    "                geom_col = geom_cols[0]\n",
    "                gdf_areas = gpd.GeoDataFrame(\n",
    "                    df_areas.copy(),\n",
    "                    geometry=df_areas[geom_col].apply(lambda x: wkt.loads(x) if isinstance(x, str) and x.strip().startswith((\"POLY\", \"MULTI\", \"LINE\", \"POINT\")) else None),\n",
    "                    crs=\"EPSG:4326\"\n",
    "                )\n",
    "            else:\n",
    "                print(\"Tidak menemukan kolom WKT pada areas CSV. Boundary akan di-skip.\")\n",
    "                gdf_areas = None\n",
    "        except Exception as e:\n",
    "            print(\"Gagal membaca areas. Boundary akan di-skip:\", e)\n",
    "else:\n",
    "    print(\"Info: File area boundaries opsional tidak ditemukan. Melanjutkan tanpa boundary.\")\n"
   ]
  },
  {
   "cell_type": "code",
   "execution_count": 16,
   "id": "13dea891",
   "metadata": {},
   "outputs": [
    {
     "name": "stdout",
     "output_type": "stream",
     "text": [
      "Lewati EDA karena data trips belum tersedia.\n"
     ]
    }
   ],
   "source": [
    "\n",
    "# ====== QUICK EDA ======\n",
    "if df_trips is not None:\n",
    "    display(df_trips.head(3))\n",
    "    print(\"\\nKolom tersedia:\", list(df_trips.columns))\n",
    "    print(\"\\nJumlah baris:\", len(df_trips))\n",
    "    # Kolom kandidat untuk lon/lat (pickup & dropoff)\n",
    "    candidate_lon = [c for c in df_trips.columns if \"lon\" in c.lower() or \"lng\" in c.lower() or \"longitude\" in c.lower()]\n",
    "    candidate_lat = [c for c in df_trips.columns if \"lat\" in c.lower() or \"latitude\" in c.lower()]\n",
    "    print(\"\\nDeteksi kandidat longitude:\", candidate_lon)\n",
    "    print(\"Deteksi kandidat latitude :\", candidate_lat)\n",
    "else:\n",
    "    print(\"Lewati EDA karena data trips belum tersedia.\")\n"
   ]
  },
  {
   "cell_type": "code",
   "execution_count": 17,
   "id": "896fc258",
   "metadata": {},
   "outputs": [
    {
     "name": "stdout",
     "output_type": "stream",
     "text": [
      "Lewati konversi GeoDataFrame karena data trips belum tersedia.\n"
     ]
    }
   ],
   "source": [
    "\n",
    "# ====== FUNGSI BANTU: DETEKSI NAMA KOLOM ======\n",
    "def first_match(cols, keywords):\n",
    "    cols_l = [c.lower() for c in cols]\n",
    "    for kw in keywords:\n",
    "        for c in cols:\n",
    "            if kw == c.lower():\n",
    "                return c\n",
    "    return None\n",
    "\n",
    "def guess_lon_lat(df, prefix_candidates):\n",
    "    # cari kolom seperti: pickup_longitude / pickup_latitude, atau dropoff_longitude / dropoff_latitude\n",
    "    for pre in prefix_candidates:\n",
    "        lon = first_match(df.columns, [f\"{pre}_longitude\", f\"{pre}_lon\", f\"{pre}_lng\"])\n",
    "        lat = first_match(df.columns, [f\"{pre}_latitude\", f\"{pre}_lat\"])\n",
    "        if lon and lat:\n",
    "            return lon, lat\n",
    "    return None, None\n",
    "\n",
    "def to_gdf_points(df, lon_col, lat_col, crs=\"EPSG:4326\"):\n",
    "    good = df.dropna(subset=[lon_col, lat_col]).copy()\n",
    "    good = good[(good[lon_col].astype(str).str.len()>0) & (good[lat_col].astype(str).str.len()>0)]\n",
    "    good[lon_col] = pd.to_numeric(good[lon_col], errors=\"coerce\")\n",
    "    good[lat_col] = pd.to_numeric(good[lat_col], errors=\"coerce\")\n",
    "    good = good.dropna(subset=[lon_col, lat_col])\n",
    "    gdf = gpd.GeoDataFrame(good, geometry=gpd.points_from_xy(good[lon_col], good[lat_col]), crs=crs)\n",
    "    return gdf\n",
    "\n",
    "gdf_pu = None\n",
    "gdf_do = None\n",
    "\n",
    "if df_trips is not None:\n",
    "    pu_lon, pu_lat = guess_lon_lat(df_trips, [\"pickup\", \"pu\", \"start\"])\n",
    "    do_lon, do_lat = guess_lon_lat(df_trips, [\"dropoff\", \"do\", \"end\"])\n",
    "\n",
    "    if pu_lon and pu_lat:\n",
    "        gdf_pu = to_gdf_points(df_trips, pu_lon, pu_lat)\n",
    "        print(f\"GeoDataFrame PU: {gdf_pu.shape}, kolom: {pu_lon}, {pu_lat}\")\n",
    "    else:\n",
    "        print(\"Tidak menemukan kolom PU lon/lat yang cocok.\")\n",
    "\n",
    "    if do_lon and do_lat:\n",
    "        gdf_do = to_gdf_points(df_trips, do_lon, do_lat)\n",
    "        print(f\"GeoDataFrame DO: {gdf_do.shape}, kolom: {do_lon}, {do_lat}\")\n",
    "    else:\n",
    "        print(\"Tidak menemukan kolom DO lon/lat yang cocok.\")\n",
    "else:\n",
    "    print(\"Lewati konversi GeoDataFrame karena data trips belum tersedia.\")\n"
   ]
  },
  {
   "cell_type": "code",
   "execution_count": 18,
   "id": "3ff97ddb",
   "metadata": {},
   "outputs": [
    {
     "data": {
      "text/plain": [
       "[-6.2, 106.8]"
      ]
     },
     "execution_count": 18,
     "metadata": {},
     "output_type": "execute_result"
    }
   ],
   "source": [
    "\n",
    "# ====== TEBAK PUSAT PETA (Jakarta fallback) ======\n",
    "def guess_center(gdf_list):\n",
    "    for gdf in gdf_list:\n",
    "        if gdf is not None and len(gdf) > 0:\n",
    "            y = gdf.geometry.y.median()\n",
    "            x = gdf.geometry.x.median()\n",
    "            if not (pd.isna(x) or pd.isna(y)):\n",
    "                return [y, x]\n",
    "    return [-6.2, 106.8]  # Jakarta fallback\n",
    "\n",
    "map_center = guess_center([gdf_pu, gdf_do])\n",
    "map_center\n"
   ]
  },
  {
   "cell_type": "code",
   "execution_count": 19,
   "id": "77d84732",
   "metadata": {},
   "outputs": [
    {
     "data": {
      "application/vnd.jupyter.widget-view+json": {
       "model_id": "74e89f43f721441c9514682c3e6c6cb2",
       "version_major": 2,
       "version_minor": 0
      },
      "text/plain": [
       "Map(center=[-6.2, 106.8], controls=(ZoomControl(options=['position', 'zoom_in_text', 'zoom_in_title', 'zoom_ou…"
      ]
     },
     "execution_count": 19,
     "metadata": {},
     "output_type": "execute_result"
    }
   ],
   "source": [
    "\n",
    "# ====== PETA 1: HEATMAP PU & DO (MERAH = TINGGI) ======\n",
    "m_heat = leafmap.Map(center=map_center, zoom=11)\n",
    "m_heat.add_basemap(\"CartoDB.Positron\")\n",
    "\n",
    "# Gradient heatmap merah-tinggi hijau-rendah\n",
    "gradient_red_high = {\n",
    "    0.0: \"green\",\n",
    "    0.5: \"yellow\",\n",
    "    1.0: \"red\",\n",
    "}\n",
    "\n",
    "if gdf_pu is not None and len(gdf_pu) > 0:\n",
    "    m_heat.add_heatmap(\n",
    "        data=gdf_pu,\n",
    "        latitude=gdf_pu.geometry.y.name,  # y\n",
    "        longitude=gdf_pu.geometry.x.name, # x\n",
    "        name=\"PU Heatmap\",\n",
    "        radius=20,\n",
    "        gradient=gradient_red_high,\n",
    "        blur=15,\n",
    "        min_opacity=0.2,\n",
    "        max_zoom=18,\n",
    "    )\n",
    "\n",
    "if gdf_do is not None and len(gdf_do) > 0:\n",
    "    m_heat.add_heatmap(\n",
    "        data=gdf_do,\n",
    "        latitude=gdf_do.geometry.y.name,\n",
    "        longitude=gdf_do.geometry.x.name,\n",
    "        name=\"DO Heatmap\",\n",
    "        radius=20,\n",
    "        gradient=gradient_red_high,\n",
    "        blur=15,\n",
    "        min_opacity=0.2,\n",
    "        max_zoom=18,\n",
    "    )\n",
    "\n",
    "m_heat.add_layer_control()\n",
    "m_heat\n"
   ]
  },
  {
   "cell_type": "code",
   "execution_count": 20,
   "id": "fd5fa2b7",
   "metadata": {},
   "outputs": [
    {
     "data": {
      "application/vnd.jupyter.widget-view+json": {
       "model_id": "d996124c90ae4f0d8f55b2b61cbcc94d",
       "version_major": 2,
       "version_minor": 0
      },
      "text/plain": [
       "Map(center=[-6.2, 106.8], controls=(ZoomControl(options=['position', 'zoom_in_text', 'zoom_in_title', 'zoom_ou…"
      ]
     },
     "execution_count": 20,
     "metadata": {},
     "output_type": "execute_result"
    }
   ],
   "source": [
    "\n",
    "# ====== PETA 2: CLUSTER TITIK PU & DO ======\n",
    "m_cluster = leafmap.Map(center=map_center, zoom=11)\n",
    "m_cluster.add_basemap(\"CartoDB.Positron\")\n",
    "\n",
    "if gdf_pu is not None and len(gdf_pu) > 0:\n",
    "    m_cluster.add_points_from_xy(\n",
    "        gdf_pu,\n",
    "        x=gdf_pu.geometry.x.name,\n",
    "        y=gdf_pu.geometry.y.name,\n",
    "        name=\"PU (Cluster)\",\n",
    "        add_heatmap=False,\n",
    "        cluster=True,\n",
    "        icon_colors=[\"red\"],  # marker merah untuk PU\n",
    "    )\n",
    "\n",
    "if gdf_do is not None and len(gdf_do) > 0:\n",
    "    m_cluster.add_points_from_xy(\n",
    "        gdf_do,\n",
    "        x=gdf_do.geometry.x.name,\n",
    "        y=gdf_do.geometry.y.name,\n",
    "        name=\"DO (Cluster)\",\n",
    "        add_heatmap=False,\n",
    "        cluster=True,\n",
    "        icon_colors=[\"green\"],  # marker hijau untuk DO\n",
    "    )\n",
    "\n",
    "m_cluster.add_layer_control()\n",
    "m_cluster\n"
   ]
  },
  {
   "cell_type": "code",
   "execution_count": 21,
   "id": "9f9dbe7d",
   "metadata": {},
   "outputs": [
    {
     "name": "stdout",
     "output_type": "stream",
     "text": [
      "Choropleth dilewati karena boundary tidak tersedia.\n"
     ]
    }
   ],
   "source": [
    "\n",
    "# ====== (OPSIONAL) PETA 3: CHOROPLETH AGREGASI PER WILAYAH ======\n",
    "# Syarat: gdf_areas harus poligon dan gdf_pu/gdf_do ada.\n",
    "def choropleth_by_area(gdf_points, gdf_polygons, value_name):\n",
    "    tmp = gpd.sjoin(gdf_points.to_crs(4326), gdf_polygons.to_crs(4326), how=\"left\", predicate=\"within\")\n",
    "    key_col = None\n",
    "    # cari satu kolom identitas wilayah yang \"bermakna\"\n",
    "    for c in gdf_polygons.columns:\n",
    "        if c.lower() in [\"name\", \"nama\", \"kecamatan\", \"kelurahan\", \"kabupaten\", \"kota\", \"provinsi\", \"id\", \"kode\"]:\n",
    "            key_col = c\n",
    "            break\n",
    "    if key_col is None:\n",
    "        key_col = \"index_right\"\n",
    "    agg = tmp.groupby(key_col).size().reset_index(name=value_name)\n",
    "    gdf_poly2 = gdf_polygons.copy()\n",
    "    gdf_poly2 = gdf_poly2.merge(agg, on=key_col, how=\"left\")\n",
    "    gdf_poly2[value_name] = gdf_poly2[value_name].fillna(0)\n",
    "    return gdf_poly2, key_col\n",
    "\n",
    "m_choro = None\n",
    "if gdf_areas is not None and gdf_areas.geometry.iloc[0] is not None:\n",
    "    m_choro = leafmap.Map(center=map_center, zoom=10)\n",
    "    m_choro.add_basemap(\"CartoDB.Positron\")\n",
    "\n",
    "    if gdf_pu is not None and len(gdf_pu) > 0:\n",
    "        gdf_pu_area, key_pu = choropleth_by_area(gdf_pu, gdf_areas, \"PU_Count\")\n",
    "        m_choro.add_gdf(\n",
    "            gdf_pu_area,\n",
    "            layer_name=\"Choropleth PU\",\n",
    "            column=\"PU_Count\",\n",
    "            cmap=\"RdYlGn_r\",  # merah tinggi → hijau rendah\n",
    "            scheme=\"Quantiles\",\n",
    "            k=5,\n",
    "            legend_title=\"Jumlah PU\",\n",
    "            opacity=0.7,\n",
    "        )\n",
    "\n",
    "    if gdf_do is not None and len(gdf_do) > 0:\n",
    "        gdf_do_area, key_do = choropleth_by_area(gdf_do, gdf_areas, \"DO_Count\")\n",
    "        m_choro.add_gdf(\n",
    "            gdf_do_area,\n",
    "            layer_name=\"Choropleth DO\",\n",
    "            column=\"DO_Count\",\n",
    "            cmap=\"RdYlGn_r\",\n",
    "            scheme=\"Quantiles\",\n",
    "            k=5,\n",
    "            legend_title=\"Jumlah DO\",\n",
    "            opacity=0.7,\n",
    "        )\n",
    "\n",
    "    m_choro.add_layer_control()\n",
    "\n",
    "m_choro if m_choro is not None else print(\"Choropleth dilewati karena boundary tidak tersedia.\")\n"
   ]
  },
  {
   "cell_type": "code",
   "execution_count": 22,
   "id": "5872444e",
   "metadata": {},
   "outputs": [
    {
     "name": "stdout",
     "output_type": "stream",
     "text": [
      "Saved: outputs\\leafmap_heatmap_pu_do.html\n",
      "Saved: outputs\\leafmap_cluster_pu_do.html\n"
     ]
    }
   ],
   "source": [
    "\n",
    "# ====== EKSPOR KE HTML (OPSIONAL) ======\n",
    "EXPORT_DIR = \"outputs\"\n",
    "os.makedirs(EXPORT_DIR, exist_ok=True)\n",
    "\n",
    "heat_html = os.path.join(EXPORT_DIR, \"leafmap_heatmap_pu_do.html\")\n",
    "cluster_html = os.path.join(EXPORT_DIR, \"leafmap_cluster_pu_do.html\")\n",
    "choro_html = os.path.join(EXPORT_DIR, \"leafmap_choropleth.html\")\n",
    "\n",
    "try:\n",
    "    m_heat.to_html(heat_html)\n",
    "    print(\"Saved:\", heat_html)\n",
    "except Exception as e:\n",
    "    print(\"Gagal simpan heatmap:\", e)\n",
    "\n",
    "try:\n",
    "    m_cluster.to_html(cluster_html)\n",
    "    print(\"Saved:\", cluster_html)\n",
    "except Exception as e:\n",
    "    print(\"Gagal simpan cluster:\", e)\n",
    "\n",
    "if 'm_choro' in globals() and m_choro is not None:\n",
    "    try:\n",
    "        m_choro.to_html(choro_html)\n",
    "        print(\"Saved:\", choro_html)\n",
    "    except Exception as e:\n",
    "        print(\"Gagal simpan choropleth:\", e)\n"
   ]
  },
  {
   "cell_type": "markdown",
   "id": "68c81384",
   "metadata": {},
   "source": [
    "\n",
    "## Ringkasan & Catatan Insight (Contoh)\n",
    "\n",
    "- **Heatmap PU** menunjukkan area panas lokasi penjemputan. Zona berwarna **merah** adalah titik dengan kepadatan tertinggi.\n",
    "- **Heatmap DO** menyoroti area pengantaran padat. Bandingkan layer PU vs DO untuk melihat **ketidakseimbangan** supply-demand.\n",
    "- **Cluster PU/DO** memudahkan eksplorasi titik individual dan sebarannya.\n",
    "- **Choropleth** (jika boundary tersedia) menyajikan agregasi per wilayah (mis. kecamatan/kelurahan) untuk membantu **prioritas intervensi** (zona pickup yang perlu signage, kandidat *virtual pickup point*, dsb.).\n",
    "\n",
    "> **Tips:** Anda bisa menggunakan tombol **Layer Control** di pojok kanan atas peta untuk **toggle** (menyalakan/mematikan) layer PU/DO atau tipe peta tertentu.\n"
   ]
  },
  {
   "cell_type": "markdown",
   "id": "729f7c44",
   "metadata": {},
   "source": [
    "\n",
    "---\n",
    "\n",
    "**Notebook generated:** 2025-08-17 05:09:29 UTC  \n",
    "Author: *Converted to Leafmap-only by ChatGPT*\n",
    "\n"
   ]
  }
 ],
 "metadata": {
  "kernelspec": {
   "display_name": "Python 3 (ipykernel)",
   "language": "python",
   "name": "python3"
  },
  "language_info": {
   "codemirror_mode": {
    "name": "ipython",
    "version": 3
   },
   "file_extension": ".py",
   "mimetype": "text/x-python",
   "name": "python",
   "nbconvert_exporter": "python",
   "pygments_lexer": "ipython3",
   "version": "3.10.18"
  }
 },
 "nbformat": 4,
 "nbformat_minor": 5
}
